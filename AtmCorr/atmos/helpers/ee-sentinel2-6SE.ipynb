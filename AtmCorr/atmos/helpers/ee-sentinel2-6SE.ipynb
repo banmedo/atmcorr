{
 "cells": [
  {
   "cell_type": "code",
   "execution_count": 1,
   "metadata": {},
   "outputs": [],
   "source": [
    "import ee\n",
    "ee.Initialize()"
   ]
  },
  {
   "cell_type": "code",
   "execution_count": 2,
   "metadata": {},
   "outputs": [],
   "source": [
    "import os\n",
    "import sys\n",
    "sys.path.append(os.path.join(os.path.dirname(os.getcwd()),'bin'))\n",
    "from sixs_emulator_ee_sentinel2_batch import SixS_emulator\n",
    "from atmcorr_input import Atmcorr_input\n",
    "from atmospheric_correction import atmospheric_correction\n",
    "from radiance import radiance_from_TOA\n",
    "from interpolated_LUTs import Interpolated_LUTs"
   ]
  },
  {
   "cell_type": "code",
   "execution_count": 3,
   "metadata": {},
   "outputs": [],
   "source": [
    "# a place and a mission\n",
    "geom = ee.Geometry.Point(77.8574, 30.2211)\n",
    "mission = 'COPERNICUS/S2'"
   ]
  },
  {
   "cell_type": "code",
   "execution_count": 4,
   "metadata": {},
   "outputs": [],
   "source": [
    "# 6S emulator\n",
    "se = SixS_emulator(mission)"
   ]
  },
  {
   "cell_type": "code",
   "execution_count": 5,
   "metadata": {},
   "outputs": [],
   "source": [
    "# image collection\n",
    "ic = ee.ImageCollection(mission)\\\n",
    "    .filterBounds(geom)\\\n",
    "    .filterDate('2016-06-01','2016-06-30')\\\n",
    "    .filter(ee.Filter.lt('MEAN_SOLAR_ZENITH_ANGLE',75))\n",
    "    "
   ]
  },
  {
   "cell_type": "code",
   "execution_count": 6,
   "metadata": {},
   "outputs": [],
   "source": [
    "# iLUTs instance\n",
    "iLUTs = Interpolated_LUTs('COPERNICUS/S2') # i.e. Sentinel2 "
   ]
  },
  {
   "cell_type": "code",
   "execution_count": 7,
   "metadata": {},
   "outputs": [],
   "source": [
    "# if this is first time you might have to download the look up tables\n",
    "#iLUTs.download_LUTs()"
   ]
  },
  {
   "cell_type": "code",
   "execution_count": 8,
   "metadata": {
    "scrolled": false
   },
   "outputs": [
    {
     "name": "stdout",
     "output_type": "stream",
     "text": [
      "running n-dimensional interpolation may take a few minutes...\n",
      "iLUT file already exists (skipping interpolation): S2A_MSI_01.lut\n",
      "iLUT file already exists (skipping interpolation): S2A_MSI_02.lut\n",
      "iLUT file already exists (skipping interpolation): S2A_MSI_03.lut\n",
      "iLUT file already exists (skipping interpolation): S2A_MSI_04.lut\n",
      "iLUT file already exists (skipping interpolation): S2A_MSI_05.lut\n",
      "iLUT file already exists (skipping interpolation): S2A_MSI_06.lut\n",
      "iLUT file already exists (skipping interpolation): S2A_MSI_07.lut\n",
      "iLUT file already exists (skipping interpolation): S2A_MSI_08.lut\n",
      "iLUT file already exists (skipping interpolation): S2A_MSI_09.lut\n",
      "iLUT file already exists (skipping interpolation): S2A_MSI_10.lut\n",
      "iLUT file already exists (skipping interpolation): S2A_MSI_11.lut\n",
      "iLUT file already exists (skipping interpolation): S2A_MSI_12.lut\n",
      "iLUT file already exists (skipping interpolation): S2A_MSI_13.lut\n"
     ]
    }
   ],
   "source": [
    "# and run the interpolation\n",
    "iLUTs.interpolate_LUTs()"
   ]
  },
  {
   "cell_type": "markdown",
   "metadata": {},
   "source": [
    "If you are running this notebook in a docker container then you can save these interpolated look-up tables (and your Earth Engine authentication) for later using a [docker commit](https://github.com/samsammurphy/gee-atmcorr-S2-6SE/wiki/docker-commits). This will save them to memory so that you only have to do the set-up once."
   ]
  },
  {
   "cell_type": "code",
   "execution_count": 9,
   "metadata": {},
   "outputs": [],
   "source": [
    "# otherwise, you can just load iLUTs from file\n",
    "se.iLUTs = iLUTs.get()"
   ]
  },
  {
   "cell_type": "code",
   "execution_count": 14,
   "metadata": {},
   "outputs": [
    {
     "name": "stdout",
     "output_type": "stream",
     "text": [
      "{'type': 'FeatureCollection', 'columns': {}, 'id': 'COPERNICUS/S2', 'version': 1517194387654942, 'properties': {'date_range': [1435017600000.0, 1516665600000.0], 'period': 0.0, 'system:visualization_0_min': [0.0], 'system:visualization_0_bands': ['B4', 'B3', 'B2'], 'thumb': 'https://mw1.google.com/ges/dd/images/sentinel2_thumb.png', 'description': '<p>SENTINEL-2 is a wide-swath, high-resolution, multi-spectral imaging mission supporting Copernicus Land Monitoring studies, including the monitoring of vegetation, soil and water cover, as well as observation of inland waterways and coastal areas. </p>\\n<p>The SENTINEL-2 data contain 13 UINT16 spectral bands representing TOA reflectance scaled by 10000. See the <a href=\"https://sentinel.esa.int/documents/247904/685211/Sentinel-2_User_Handbook\">Sentinel-2 User Handbook</a> for details. In addition, three QA bands are present where one (QA60) is a bitmask band with cloud mask information. For more details, <a href=\"https://sentinel.esa.int/web/sentinel/technical-guides/sentinel-2-msi/level-1c/cloud-masks\">see the full explanation of how cloud masks are computed.</a> </p>\\n<p>Each Sentinel-2 product (zip archive) may contain multiple granules. Each granule becomes a separate Earth Engine asset. EE asset ids for Sentinel-2 assets have the following format: COPERNICUS/S2/20151128T002653_20151128T102149_T56MNN. Here the first numeric part represents the sensing date and time, the second numeric part represents the product generation date and time, and the final 6-character string is a unique granule identifier indicating its UTM grid reference (see <a href=\"https://en.wikipedia.org/wiki/Military_Grid_Reference_System\">MGRS</a>).</p>\\n<p><b>Bands</b>\\n<table class=\"eecat\">\\n  <tr>\\n    <th scope=\"col\">Name</th>\\n    <th scope=\"col\">Min</th>\\n    <th scope=\"col\">Max</th>\\n    <th scope=\"col\">Scale</th>\\n    <th scope=\"col\">Resolution</th>\\n    <th scope=\"col\">Wavelength</th>\\n    <th scope=\"col\">Description</th>\\n  </tr>\\n  <tr>\\n    <td>B1</td>\\n    <td>\\n          0\\n    </td>\\n    <td>\\n          10000\\n    </td>\\n    <td>0.0001</td>\\n    <td>60 METERS</td>\\n    <td>443nm</td>\\n    <td><p>Aerosols</p></td>\\n  </tr>\\n  <tr>\\n    <td>B2</td>\\n    <td>\\n          0\\n    </td>\\n    <td>\\n          10000\\n    </td>\\n    <td>0.0001</td>\\n    <td>10 METERS</td>\\n    <td>490nm</td>\\n    <td><p>Blue</p></td>\\n  </tr>\\n  <tr>\\n    <td>B3</td>\\n    <td>\\n          0\\n    </td>\\n    <td>\\n          10000\\n    </td>\\n    <td>0.0001</td>\\n    <td>10 METERS</td>\\n    <td>560nm</td>\\n    <td><p>Green</p></td>\\n  </tr>\\n  <tr>\\n    <td>B4</td>\\n    <td>\\n          0\\n    </td>\\n    <td>\\n          10000\\n    </td>\\n    <td>0.0001</td>\\n    <td>10 METERS</td>\\n    <td>665nm</td>\\n    <td><p>Red</p></td>\\n  </tr>\\n  <tr>\\n    <td>B5</td>\\n    <td>\\n          0\\n    </td>\\n    <td>\\n          10000\\n    </td>\\n    <td>0.0001</td>\\n    <td>20 METERS</td>\\n    <td>705nm</td>\\n    <td><p>Red Edge 1</p></td>\\n  </tr>\\n  <tr>\\n    <td>B6</td>\\n    <td>\\n          0\\n    </td>\\n    <td>\\n          10000\\n    </td>\\n    <td>0.0001</td>\\n    <td>20 METERS</td>\\n    <td>740nm</td>\\n    <td><p>Red Edge 2</p></td>\\n  </tr>\\n  <tr>\\n    <td>B7</td>\\n    <td>\\n          0\\n    </td>\\n    <td>\\n          10000\\n    </td>\\n    <td>0.0001</td>\\n    <td>20 METERS</td>\\n    <td>783nm</td>\\n    <td><p>Red Edge 3</p></td>\\n  </tr>\\n  <tr>\\n    <td>B8</td>\\n    <td>\\n          0\\n    </td>\\n    <td>\\n          10000\\n    </td>\\n    <td>0.0001</td>\\n    <td>10 METERS</td>\\n    <td>842nm</td>\\n    <td><p>NIR</p></td>\\n  </tr>\\n  <tr>\\n    <td>B8a</td>\\n    <td>\\n          0\\n    </td>\\n    <td>\\n          10000\\n    </td>\\n    <td>0.0001</td>\\n    <td>20 METERS</td>\\n    <td>865nm</td>\\n    <td><p>Red Edge 4</p></td>\\n  </tr>\\n  <tr>\\n    <td>B9</td>\\n    <td>\\n          0\\n    </td>\\n    <td>\\n          10000\\n    </td>\\n    <td>0.0001</td>\\n    <td>60 METERS</td>\\n    <td>940nm</td>\\n    <td><p>Water vapor</p></td>\\n  </tr>\\n  <tr>\\n    <td>B10</td>\\n    <td>\\n          0\\n    </td>\\n    <td>\\n          10000\\n    </td>\\n    <td>0.0001</td>\\n    <td>60 METERS</td>\\n    <td>1375nm</td>\\n    <td><p>Cirrus</p></td>\\n  </tr>\\n  <tr>\\n    <td>B11</td>\\n    <td>\\n          0\\n    </td>\\n    <td>\\n          10000\\n    </td>\\n    <td>0.0001</td>\\n    <td>20 METERS</td>\\n    <td>1610nm</td>\\n    <td><p>SWIR 1</p></td>\\n  </tr>\\n  <tr>\\n    <td>B12</td>\\n    <td>\\n          0\\n    </td>\\n    <td>\\n          10000\\n    </td>\\n    <td>0.0001</td>\\n    <td>20 METERS</td>\\n    <td>2190nm</td>\\n    <td><p>SWIR 2</p></td>\\n  </tr>\\n  <tr>\\n    <td>QA10</td>\\n    <td>\\n    </td>\\n    <td>\\n    </td>\\n    <td></td>\\n    <td>10 METERS</td>\\n    <td></td>\\n    <td><p>Always empty</p></td>\\n  </tr>\\n  <tr>\\n    <td>QA20</td>\\n    <td>\\n    </td>\\n    <td>\\n    </td>\\n    <td></td>\\n    <td>20 METERS</td>\\n    <td></td>\\n    <td><p>Always empty</p></td>\\n  </tr>\\n  <tr>\\n    <td>QA60</td>\\n    <td>\\n    </td>\\n    <td>\\n    </td>\\n    <td></td>\\n    <td>60 METERS</td>\\n    <td></td>\\n    <td><p>Cloud mask</p></td>\\n  </tr>\\n  <tr>\\n    <td colspan=100>\\n      Bitmask for QA60\\n      <ul>\\n        <li>\\n          Bit 10: Opaque clouds\\n          <ul>\\n              <li>0: No opaque clouds</li>\\n              <li>1: Opaque clouds present</li>\\n          </ul>\\n        </li>\\n        <li>\\n          Bit 11: Cirrus clouds\\n          <ul>\\n              <li>0: No cirrus clouds</li>\\n              <li>1: Cirrus clouds present</li>\\n          </ul>\\n        </li>\\n      </ul>\\n    </td>\\n  </tr>\\n</table>\\n<p><b>Image Properties</b>\\n<table class=\"eecat\">\\n  <tr>\\n    <th scope=\"col\">Name</th>\\n    <th scope=\"col\">Type</th>\\n    <th scope=\"col\">Description</th>\\n  </tr>\\n  <tr>\\n    <td>CLOUDY_PIXEL_PERCENTAGE</td>\\n    <td>DOUBLE</td>\\n    <td>Granule-specific cloudy pixel percentage taken from the original metadata</td>\\n  </tr>\\n  <tr>\\n    <td>CLOUD_COVERAGE_ASSESSMENT</td>\\n    <td>DOUBLE</td>\\n    <td>Cloudy pixel percentage for the whole archive that contains this granule. Taken from the original metadata</td>\\n  </tr>\\n  <tr>\\n    <td>PRODUCT_ID</td>\\n    <td>STRING</td>\\n    <td>The full id of the original Sentinel-2 product</td>\\n  </tr>\\n  <tr>\\n    <td>DATASTRIP_ID</td>\\n    <td>STRING</td>\\n    <td>Unique identifier of the datastrip Product Data Item (PDI)</td>\\n  </tr>\\n  <tr>\\n    <td>DATATAKE_IDENTIFIER</td>\\n    <td>STRING</td>\\n    <td>Uniquely identifies a given Datatake. The ID contains the Sentinel-2 satellite, start date and time, absolute orbit number, and processing baseline.</td>\\n  </tr>\\n  <tr>\\n    <td>DATATAKE_TYPE</td>\\n    <td>STRING</td>\\n    <td>MSI operation mode</td>\\n  </tr>\\n  <tr>\\n    <td>DEGRADED_MSI_DATA_PERCENTAGE</td>\\n    <td>DOUBLE</td>\\n    <td>Percentage of degraded MSI and ancillary data</td>\\n  </tr>\\n  <tr>\\n    <td>FORMAT_CORRECTNESS_FLAG</td>\\n    <td>STRING</td>\\n    <td>Synthesis of the On-Line Quality Control (OLQC) checks performed at granule (Product_Syntax) and datastrip (Product Syntax and DS_Consistency) levels</td>\\n  </tr>\\n  <tr>\\n    <td>GENERAL_QUALITY_FLAG</td>\\n    <td>STRING</td>\\n    <td>Synthesis of the OLQC checks performed at the datastrip level (Relative_Orbit_Number)</td>\\n  </tr>\\n  <tr>\\n    <td>GENERATION_TIME</td>\\n    <td>DOUBLE</td>\\n    <td>Product generation time</td>\\n  </tr>\\n  <tr>\\n    <td>GEOMETRIC_QUALITY_FLAG</td>\\n    <td>STRING</td>\\n    <td>Synthesis of the OLQC checks performed at the datastrip level (Attitude_Quality_Indicator)</td>\\n  </tr>\\n  <tr>\\n    <td>GRANULE_ID</td>\\n    <td>STRING</td>\\n    <td>Unique identifier of the granule PDI (PDI_ID) </td>\\n  </tr>\\n  <tr>\\n    <td>MEAN_INCIDENCE_AZIMUTH_ANGLE_B1</td>\\n    <td>DOUBLE</td>\\n    <td>Mean value containing viewing incidence azimuth angle average for band B1 and for all detectors</td>\\n  </tr>\\n  <tr>\\n    <td>MEAN_INCIDENCE_AZIMUTH_ANGLE_B2</td>\\n    <td>DOUBLE</td>\\n    <td>Mean value containing viewing incidence azimuth angle average for band B2 and for all detectors</td>\\n  </tr>\\n  <tr>\\n    <td>MEAN_INCIDENCE_AZIMUTH_ANGLE_B3</td>\\n    <td>DOUBLE</td>\\n    <td>Mean value containing viewing incidence azimuth angle average for band B3 and for all detectors</td>\\n  </tr>\\n  <tr>\\n    <td>MEAN_INCIDENCE_AZIMUTH_ANGLE_B4</td>\\n    <td>DOUBLE</td>\\n    <td>Mean value containing viewing incidence azimuth angle average for band B4 and for all detectors</td>\\n  </tr>\\n  <tr>\\n    <td>MEAN_INCIDENCE_AZIMUTH_ANGLE_B5</td>\\n    <td>DOUBLE</td>\\n    <td>Mean value containing viewing incidence azimuth angle average for band B5 and for all detectors</td>\\n  </tr>\\n  <tr>\\n    <td>MEAN_INCIDENCE_AZIMUTH_ANGLE_B6</td>\\n    <td>DOUBLE</td>\\n    <td>Mean value containing viewing incidence azimuth angle average for band B6 and for all detectors</td>\\n  </tr>\\n  <tr>\\n    <td>MEAN_INCIDENCE_AZIMUTH_ANGLE_B7</td>\\n    <td>DOUBLE</td>\\n    <td>Mean value containing viewing incidence azimuth angle average for band B7 and for all detectors</td>\\n  </tr>\\n  <tr>\\n    <td>MEAN_INCIDENCE_AZIMUTH_ANGLE_B8</td>\\n    <td>DOUBLE</td>\\n    <td>Mean value containing viewing incidence azimuth angle average for band B8 and for all detectors</td>\\n  </tr>\\n  <tr>\\n    <td>MEAN_INCIDENCE_AZIMUTH_ANGLE_B8A</td>\\n    <td>DOUBLE</td>\\n    <td>Mean value containing viewing incidence azimuth angle average for band B8a and for all detectors</td>\\n  </tr>\\n  <tr>\\n    <td>MEAN_INCIDENCE_AZIMUTH_ANGLE_B9</td>\\n    <td>DOUBLE</td>\\n    <td>Mean value containing viewing incidence azimuth angle average for band B9 and for all detectors</td>\\n  </tr>\\n  <tr>\\n    <td>MEAN_INCIDENCE_AZIMUTH_ANGLE_B10</td>\\n    <td>DOUBLE</td>\\n    <td>Mean value containing viewing incidence azimuth angle average for band B10 and for all detectors</td>\\n  </tr>\\n  <tr>\\n    <td>MEAN_INCIDENCE_AZIMUTH_ANGLE_B11</td>\\n    <td>DOUBLE</td>\\n    <td>Mean value containing viewing incidence azimuth angle average for band B11 and for all detectors</td>\\n  </tr>\\n  <tr>\\n    <td>MEAN_INCIDENCE_AZIMUTH_ANGLE_B12</td>\\n    <td>DOUBLE</td>\\n    <td>Mean value containing viewing incidence azimuth angle average for band B12 and for all detectors</td>\\n  </tr>\\n  <tr>\\n    <td>MEAN_INCIDENCE_ZENITH_ANGLE_B1</td>\\n    <td>DOUBLE</td>\\n    <td>Mean value containing viewing incidence zenith angle average for band B1 and for all detectors</td>\\n  </tr>\\n  <tr>\\n    <td>MEAN_INCIDENCE_ZENITH_ANGLE_B2</td>\\n    <td>DOUBLE</td>\\n    <td>Mean value containing viewing incidence zenith angle average for band B2 and for all detectors</td>\\n  </tr>\\n  <tr>\\n    <td>MEAN_INCIDENCE_ZENITH_ANGLE_B3</td>\\n    <td>DOUBLE</td>\\n    <td>Mean value containing viewing incidence zenith angle average for band B3 and for all detectors</td>\\n  </tr>\\n  <tr>\\n    <td>MEAN_INCIDENCE_ZENITH_ANGLE_B4</td>\\n    <td>DOUBLE</td>\\n    <td>Mean value containing viewing incidence zenith angle average for band B4 and for all detectors</td>\\n  </tr>\\n  <tr>\\n    <td>MEAN_INCIDENCE_ZENITH_ANGLE_B5</td>\\n    <td>DOUBLE</td>\\n    <td>Mean value containing viewing incidence zenith angle average for band B5 and for all detectors</td>\\n  </tr>\\n  <tr>\\n    <td>MEAN_INCIDENCE_ZENITH_ANGLE_B6</td>\\n    <td>DOUBLE</td>\\n    <td>Mean value containing viewing incidence zenith angle average for band B6 and for all detectors</td>\\n  </tr>\\n  <tr>\\n    <td>MEAN_INCIDENCE_ZENITH_ANGLE_B7</td>\\n    <td>DOUBLE</td>\\n    <td>Mean value containing viewing incidence zenith angle average for band B7 and for all detectors</td>\\n  </tr>\\n  <tr>\\n    <td>MEAN_INCIDENCE_ZENITH_ANGLE_B8</td>\\n    <td>DOUBLE</td>\\n    <td>Mean value containing viewing incidence zenith angle average for band B8 and for all detectors</td>\\n  </tr>\\n  <tr>\\n    <td>MEAN_INCIDENCE_ZENITH_ANGLE_B8A</td>\\n    <td>DOUBLE</td>\\n    <td>Mean value containing viewing incidence zenith angle average for band B8a and for all detectors</td>\\n  </tr>\\n  <tr>\\n    <td>MEAN_INCIDENCE_ZENITH_ANGLE_B9</td>\\n    <td>DOUBLE</td>\\n    <td>Mean value containing viewing incidence zenith angle average for band B9 and for all detectors</td>\\n  </tr>\\n  <tr>\\n    <td>MEAN_INCIDENCE_ZENITH_ANGLE_B10</td>\\n    <td>DOUBLE</td>\\n    <td>Mean value containing viewing incidence zenith angle average for band B10 and for all detectors</td>\\n  </tr>\\n  <tr>\\n    <td>MEAN_INCIDENCE_ZENITH_ANGLE_B11</td>\\n    <td>DOUBLE</td>\\n    <td>Mean value containing viewing incidence zenith angle average for band B11 and for all detectors</td>\\n  </tr>\\n  <tr>\\n    <td>MEAN_INCIDENCE_ZENITH_ANGLE_B12</td>\\n    <td>DOUBLE</td>\\n    <td>Mean value containing viewing incidence zenith angle average for band B12 and for all detectors</td>\\n  </tr>\\n  <tr>\\n    <td>MEAN_SOLAR_AZIMUTH_ANGLE</td>\\n    <td>DOUBLE</td>\\n    <td>Mean value containing sun azimuth angle average for all bands and detectors</td>\\n  </tr>\\n  <tr>\\n    <td>MEAN_SOLAR_ZENITH_ANGLE</td>\\n    <td>DOUBLE</td>\\n    <td>Mean value containing sun zenith angle average for all bands and detectors</td>\\n  </tr>\\n  <tr>\\n    <td>MGRS_TILE</td>\\n    <td>STRING</td>\\n    <td>US-Military Grid Reference System (MGRS) tile</td>\\n  </tr>\\n  <tr>\\n    <td>PROCESSING_BASELINE</td>\\n    <td>STRING</td>\\n    <td>Configuration baseline used at the time of the product generation in terms of processor software version and major Ground Image Processing Parameters (GIPP) version</td>\\n  </tr>\\n  <tr>\\n    <td>RADIOMETRIC_QUALITY_FLAG</td>\\n    <td>STRING</td>\\n    <td>Based on the OLQC reports contained in the Datastrips/QI_DATA with RADIOMETRIC_QUALITY checklist name</td>\\n  </tr>\\n  <tr>\\n    <td>REFLECTANCE_CONVERSION_CORRECTION</td>\\n    <td>DOUBLE</td>\\n    <td>Earth-Sun distance correction factor</td>\\n  </tr>\\n  <tr>\\n    <td>SENSING_ORBIT_DIRECTION</td>\\n    <td>STRING</td>\\n    <td>Imaging orbit direction</td>\\n  </tr>\\n  <tr>\\n    <td>SENSING_ORBIT_NUMBER</td>\\n    <td>DOUBLE</td>\\n    <td>Imaging orbit number</td>\\n  </tr>\\n  <tr>\\n    <td>SENSOR_QUALITY_FLAG</td>\\n    <td>STRING</td>\\n    <td>Synthesis of the OLQC checks performed at granule (Missing_Lines, Corrupted_ISP, and Sensing_Time) and datastrip (Degraded_SAD and Datation_Model) levels</td>\\n  </tr>\\n  <tr>\\n    <td>SOLAR_IRRADIANCE_B1</td>\\n    <td>DOUBLE</td>\\n    <td>Mean solar exoatmospheric irradiance for band B1</td>\\n  </tr>\\n  <tr>\\n    <td>SOLAR_IRRADIANCE_B2</td>\\n    <td>DOUBLE</td>\\n    <td>Mean solar exoatmospheric irradiance for band B2</td>\\n  </tr>\\n  <tr>\\n    <td>SOLAR_IRRADIANCE_B3</td>\\n    <td>DOUBLE</td>\\n    <td>Mean solar exoatmospheric irradiance for band B3</td>\\n  </tr>\\n  <tr>\\n    <td>SOLAR_IRRADIANCE_B4</td>\\n    <td>DOUBLE</td>\\n    <td>Mean solar exoatmospheric irradiance for band B4</td>\\n  </tr>\\n  <tr>\\n    <td>SOLAR_IRRADIANCE_B5</td>\\n    <td>DOUBLE</td>\\n    <td>Mean solar exoatmospheric irradiance for band B5</td>\\n  </tr>\\n  <tr>\\n    <td>SOLAR_IRRADIANCE_B6</td>\\n    <td>DOUBLE</td>\\n    <td>Mean solar exoatmospheric irradiance for band B6</td>\\n  </tr>\\n  <tr>\\n    <td>SOLAR_IRRADIANCE_B7</td>\\n    <td>DOUBLE</td>\\n    <td>Mean solar exoatmospheric irradiance for band B7</td>\\n  </tr>\\n  <tr>\\n    <td>SOLAR_IRRADIANCE_B8</td>\\n    <td>DOUBLE</td>\\n    <td>Mean solar exoatmospheric irradiance for band B8</td>\\n  </tr>\\n  <tr>\\n    <td>SOLAR_IRRADIANCE_B8A</td>\\n    <td>DOUBLE</td>\\n    <td>Mean solar exoatmospheric irradiance for band B8a</td>\\n  </tr>\\n  <tr>\\n    <td>SOLAR_IRRADIANCE_B9</td>\\n    <td>DOUBLE</td>\\n    <td>Mean solar exoatmospheric irradiance for band B9</td>\\n  </tr>\\n  <tr>\\n    <td>SOLAR_IRRADIANCE_B10</td>\\n    <td>DOUBLE</td>\\n    <td>Mean solar exoatmospheric irradiance for band B10</td>\\n  </tr>\\n  <tr>\\n    <td>SOLAR_IRRADIANCE_B11</td>\\n    <td>DOUBLE</td>\\n    <td>Mean solar exoatmospheric irradiance for band B11</td>\\n  </tr>\\n  <tr>\\n    <td>SOLAR_IRRADIANCE_B12</td>\\n    <td>DOUBLE</td>\\n    <td>Mean solar exoatmospheric irradiance for band B12</td>\\n  </tr>\\n  <tr>\\n    <td>SPACECRAFT_NAME</td>\\n    <td>STRING</td>\\n    <td>Sentinel-2 spacecraft name: Sentinel-2A, Sentinel-2B</td>\\n  </tr>\\n</table>\\n<p><b>Terms of Use</b><br>\\n<p>The use of Sentinel data is governed by the <a href=\"https://scihub.copernicus.eu/twiki/pub/SciHubWebPortal/TermsConditions/Sentinel_Data_Terms_and_Conditions.pdf\">Copernicus Sentinel Data Terms and Conditions.</a></p>\\n<style>\\n  table.eecat {\\n  border: 1px solid black;\\n  border-collapse: collapse;\\n  font-size: 13px;\\n  }\\n  table.eecat td, tr, th {\\n  text-align: left; vertical-align: top;\\n  border: 1px solid gray; padding: 3px;\\n  }\\n  td.nobreak { white-space: nowrap; }\\n</style>', 'source_tags': ['eu', 'esa', 'copernicus', 'sentinel'], 'provider_url': 'https://sentinel.esa.int/web/sentinel/user-guides/sentinel-2-msi', 'title': 'Sentinel-2 MSI: MultiSpectral Instrument, Level-1C', 'sample': 'https://mw1.google.com/ges/dd/images/sentinel2_sample.png', 'tags': ['eu', 'esa', 'copernicus', 'sentinel', 'msi', 'radiance'], 'system:visualization_0_max': [3000.0], 'product_tags': ['msi', 'radiance'], 'provider': 'European Union/ESA/Copernicus', 'system:visualization_0_name': 'RGB'}, 'features': [{'type': 'Feature', 'geometry': {'geodesic': True, 'type': 'Point', 'coordinates': [77.8574, 30.2211]}, 'id': '20160604T052652_20160604T104927_T43RGP', 'properties': {'atmcorr_inputs': {'alt': 0.563, 'aot': 0.999, 'doy': 156.23578359953703, 'h2o': 0.25999999046325684, 'o3': 0.2911333333333333, 'solar_z': 16.877634711284}, 'bandNames': ['B1', 'B2', 'B3', 'B4', 'B5', 'B6', 'B7', 'B8', 'B8A', 'B9', 'B10', 'B11', 'B12'], 'imgID': '20160604T052652_20160604T104927_T43RGP', 'solar_irradiance': {'B1': 1913.57, 'B10': 367.15, 'B11': 245.59, 'B12': 85.25, 'B2': 1941.63, 'B3': 1822.61, 'B4': 1512.79, 'B5': 1425.56, 'B6': 1288.32, 'B7': 1163.19, 'B8': 1036.39, 'B8A': 955.19, 'B9': 813.04}}}, {'type': 'Feature', 'geometry': {'geodesic': True, 'type': 'Point', 'coordinates': [77.8574, 30.2211]}, 'id': '20160624T053913_20160624T104713_T43RGP', 'properties': {'atmcorr_inputs': {'alt': 0.563, 'aot': 1.098, 'doy': 176.23557020833334, 'h2o': 1.0899999618530274, 'o3': 0.29, 'solar_z': 17.2765630898341}, 'bandNames': ['B1', 'B2', 'B3', 'B4', 'B5', 'B6', 'B7', 'B8', 'B8A', 'B9', 'B10', 'B11', 'B12'], 'imgID': '20160624T053913_20160624T104713_T43RGP', 'solar_irradiance': {'B1': 1913.57, 'B10': 367.15, 'B11': 245.59, 'B12': 85.25, 'B2': 1941.63, 'B3': 1822.61, 'B4': 1512.79, 'B5': 1425.56, 'B6': 1288.32, 'B7': 1163.19, 'B8': 1036.39, 'B8A': 955.19, 'B9': 813.04}}}]}\n",
      "[{'type': 'Feature', 'geometry': {'geodesic': True, 'type': 'Point', 'coordinates': [77.8574, 30.2211]}, 'id': '20160604T052652_20160604T104927_T43RGP', 'properties': {'atmcorr_inputs': {'alt': 0.563, 'aot': 0.999, 'doy': 156.23578359953703, 'h2o': 0.25999999046325684, 'o3': 0.2911333333333333, 'solar_z': 16.877634711284}, 'bandNames': ['B1', 'B2', 'B3', 'B4', 'B5', 'B6', 'B7', 'B8', 'B8A', 'B9', 'B10', 'B11', 'B12'], 'imgID': '20160604T052652_20160604T104927_T43RGP', 'solar_irradiance': {'B1': 1913.57, 'B10': 367.15, 'B11': 245.59, 'B12': 85.25, 'B2': 1941.63, 'B3': 1822.61, 'B4': 1512.79, 'B5': 1425.56, 'B6': 1288.32, 'B7': 1163.19, 'B8': 1036.39, 'B8A': 955.19, 'B9': 813.04}}}, {'type': 'Feature', 'geometry': {'geodesic': True, 'type': 'Point', 'coordinates': [77.8574, 30.2211]}, 'id': '20160624T053913_20160624T104713_T43RGP', 'properties': {'atmcorr_inputs': {'alt': 0.563, 'aot': 1.098, 'doy': 176.23557020833334, 'h2o': 1.0899999618530274, 'o3': 0.29, 'solar_z': 17.2765630898341}, 'bandNames': ['B1', 'B2', 'B3', 'B4', 'B5', 'B6', 'B7', 'B8', 'B8A', 'B9', 'B10', 'B11', 'B12'], 'imgID': '20160624T053913_20160624T104713_T43RGP', 'solar_irradiance': {'B1': 1913.57, 'B10': 367.15, 'B11': 245.59, 'B12': 85.25, 'B2': 1941.63, 'B3': 1822.61, 'B4': 1512.79, 'B5': 1425.56, 'B6': 1288.32, 'B7': 1163.19, 'B8': 1036.39, 'B8A': 955.19, 'B9': 813.04}}}]\n"
     ]
    }
   ],
   "source": [
    "# extract atmcorr inputs as feature collection\n",
    "Atmcorr_input.geom = geom  # specify target location (would use image centroid otherwise)\n",
    "atmcorr_inputs = ic.map(Atmcorr_input.extractor).getInfo()\n",
    "print(atmcorr_inputs)\n",
    "features = atmcorr_inputs['features']\n",
    "print(features)"
   ]
  },
  {
   "cell_type": "code",
   "execution_count": 16,
   "metadata": {},
   "outputs": [
    {
     "name": "stdout",
     "output_type": "stream",
     "text": [
      "{'type': 'Feature', 'geometry': {'geodesic': True, 'type': 'Point', 'coordinates': [77.8574, 30.2211]}, 'properties': {'atmcorr_inputs': {'alt': 0.563, 'aot': 0.999, 'doy': 156.23578359953703, 'h2o': 0.25999999046325684, 'o3': 0.2911333333333333, 'solar_z': 16.877634711284}, 'bandNames': ['B1', 'B2', 'B3', 'B4', 'B5', 'B6', 'B7', 'B8', 'B8A', 'B9', 'B10', 'B11', 'B12'], 'imgID': '20160604T052652_20160604T104927_T43RGP', 'solar_irradiance': {'B1': 1913.57, 'B10': 367.15, 'B11': 245.59, 'B12': 85.25, 'B2': 1941.63, 'B3': 1822.61, 'B4': 1512.79, 'B5': 1425.56, 'B6': 1288.32, 'B7': 1163.19, 'B8': 1036.39, 'B8A': 955.19, 'B9': 813.04}}}\n"
     ]
    }
   ],
   "source": [
    "iasd = ic.first()\n",
    "res = Atmcorr_input.extractor(iasd).getInfo()\n",
    "print(res)"
   ]
  },
  {
   "cell_type": "code",
   "execution_count": 17,
   "metadata": {},
   "outputs": [],
   "source": [
    "# atmospherically correct image collection\n",
    "\n",
    "ic_atmospherically_corrected = []\n",
    "\n",
    "for feature in features:\n",
    "\n",
    "    # at-sensor radiance \n",
    "    toa = ee.Image(mission+'/'+feature['properties']['imgID'])\n",
    "    rad = radiance_from_TOA(toa, feature)\n",
    "\n",
    "    # 6S emulator\n",
    "    cc = se.run(feature['properties']['atmcorr_inputs'])\n",
    "\n",
    "    # atmospheric correction\n",
    "    SR = atmospheric_correction(rad, cc)\n",
    "    ic_atmospherically_corrected.append(SR)"
   ]
  },
  {
   "cell_type": "code",
   "execution_count": 18,
   "metadata": {},
   "outputs": [],
   "source": [
    "# Earth Engine image collection\n",
    "ic_atmospherically_corrected = ee.ImageCollection(ic_atmospherically_corrected)"
   ]
  },
  {
   "cell_type": "code",
   "execution_count": 19,
   "metadata": {},
   "outputs": [
    {
     "name": "stdout",
     "output_type": "stream",
     "text": [
      "{'mapid': '0b1c6854ce09c714ea6e9db028e90775', 'token': '19d7b4c44debc8fe83fed5388941988e', 'image': <ee.image.Image object at 0x000000B599C2B588>}\n",
      "{'B1': 0.017898343634967846, 'B10': -0.09428408954499895, 'B11': 0.2517721997461795, 'B12': 0.20391941042588965, 'B2': 0.04034284852125033, 'B3': 0.06503784309210767, 'B4': 0.09574864343044874, 'B5': 0.11625681648181882, 'B6': 0.15202080340560875, 'B7': 0.17802556403453385, 'B8': 0.16561418251405624, 'B8A': 0.20491435744843803, 'B9': 0.00360397283805489}\n"
     ]
    }
   ],
   "source": [
    "# test\n",
    "SR = ee.Image(ic_atmospherically_corrected.first())\n",
    "print(SR.getMapId())\n",
    "print(SR.reduceRegion(ee.Reducer.mean(),geom).getInfo())"
   ]
  },
  {
   "cell_type": "code",
   "execution_count": 20,
   "metadata": {},
   "outputs": [
    {
     "data": {
      "text/html": [
       "<img src=\"https://earthengine.googleapis.com/api/thumb?thumbid=accf6e17f5aad812a0a680a4e39856b0&token=0f30bdc23ea8d9ac68774f269abd6664\"/>"
      ],
      "text/plain": [
       "<IPython.core.display.Image object>"
      ]
     },
     "metadata": {},
     "output_type": "display_data"
    },
    {
     "data": {
      "text/html": [
       "<img src=\"https://earthengine.googleapis.com/api/thumb?thumbid=d07f58d469abb153a5d508b54c52b04c&token=a94746919105f14850e7d00d89df8253\"/>"
      ],
      "text/plain": [
       "<IPython.core.display.Image object>"
      ]
     },
     "metadata": {},
     "output_type": "display_data"
    }
   ],
   "source": [
    "# original image (top of atmosphere)\n",
    "TOA = ee.Image(ic.first()).divide(10000)\n",
    "\n",
    "# surface reflectance (bottom of atmosphere)\n",
    "SR = ee.Image(ic_atmospherically_corrected.first())\n",
    "\n",
    "from IPython.display import display, Image\n",
    "\n",
    "region = geom.buffer(50000).bounds().getInfo()['coordinates']\n",
    "\n",
    "before = Image(url=TOA.select(['B4','B3','B2']).getThumbUrl({\n",
    "                'region':region,\n",
    "                'min':0,\n",
    "                'max':0.25,\n",
    "                'gamma':1.5\n",
    "                }))\n",
    "\n",
    "after = Image(url=SR.select(['B4','B3','B2']).getThumbUrl({\n",
    "                'region':region,\n",
    "                'min':0,\n",
    "                'max':0.25,\n",
    "                'gamma':1.5\n",
    "                }))\n",
    "\n",
    "display(before, after)"
   ]
  },
  {
   "cell_type": "code",
   "execution_count": 21,
   "metadata": {},
   "outputs": [],
   "source": [
    "tm = ee.Image('311c8ff8d826416e97de8fa5f117d330')"
   ]
  },
  {
   "cell_type": "code",
   "execution_count": 26,
   "metadata": {},
   "outputs": [
    {
     "name": "stdout",
     "output_type": "stream",
     "text": [
      "0\n"
     ]
    }
   ],
   "source": [
    "print(SR.id().getInfo())"
   ]
  },
  {
   "cell_type": "code",
   "execution_count": 37,
   "metadata": {},
   "outputs": [
    {
     "name": "stdout",
     "output_type": "stream",
     "text": [
      "False\n"
     ]
    }
   ],
   "source": [
    "asd = {\"!23\":\"sdf\"}\n",
    "ws = \"20180103T045201_20180103T045200_T44RRP\"\n",
    "print(ws in asd.keys())"
   ]
  },
  {
   "cell_type": "code",
   "execution_count": null,
   "metadata": {},
   "outputs": [],
   "source": []
  }
 ],
 "metadata": {
  "anaconda-cloud": {},
  "kernelspec": {
   "display_name": "Python 3",
   "language": "python",
   "name": "python3"
  },
  "language_info": {
   "codemirror_mode": {
    "name": "ipython",
    "version": 3
   },
   "file_extension": ".py",
   "mimetype": "text/x-python",
   "name": "python",
   "nbconvert_exporter": "python",
   "pygments_lexer": "ipython3",
   "version": "3.6.4"
  }
 },
 "nbformat": 4,
 "nbformat_minor": 1
}
