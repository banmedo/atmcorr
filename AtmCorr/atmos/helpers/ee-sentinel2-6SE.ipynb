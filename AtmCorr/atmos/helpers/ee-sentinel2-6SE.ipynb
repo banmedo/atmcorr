{
 "cells": [
  {
   "cell_type": "code",
   "execution_count": 1,
   "metadata": {},
   "outputs": [],
   "source": [
    "import ee\n",
    "ee.Initialize()"
   ]
  },
  {
   "cell_type": "code",
   "execution_count": 2,
   "metadata": {},
   "outputs": [],
   "source": [
    "import os\n",
    "import sys\n",
    "sys.path.append(os.path.join(os.path.dirname(os.getcwd()),'bin'))\n",
    "from sixs_emulator_ee_sentinel2_batch import SixS_emulator\n",
    "from atmcorr_input import Atmcorr_input\n",
    "from atmospheric_correction import atmospheric_correction\n",
    "from radiance import radiance_from_TOA\n",
    "from interpolated_LUTs import Interpolated_LUTs"
   ]
  },
  {
   "cell_type": "code",
   "execution_count": 3,
   "metadata": {},
   "outputs": [],
   "source": [
    "# a place and a mission\n",
    "geom = ee.Geometry.Point(77.8574, 30.2211)\n",
    "mission = 'COPERNICUS/S2'"
   ]
  },
  {
   "cell_type": "code",
   "execution_count": 4,
   "metadata": {},
   "outputs": [],
   "source": [
    "# 6S emulator\n",
    "se = SixS_emulator(mission)"
   ]
  },
  {
   "cell_type": "code",
   "execution_count": 5,
   "metadata": {},
   "outputs": [],
   "source": [
    "# image collection\n",
    "ic = ee.ImageCollection(mission)\\\n",
    "    .filterBounds(geom)\\\n",
    "    .filterDate('2016-06-01','2016-06-30')\\\n",
    "    .filter(ee.Filter.lt('MEAN_SOLAR_ZENITH_ANGLE',75))\n",
    "    "
   ]
  },
  {
   "cell_type": "code",
   "execution_count": 6,
   "metadata": {},
   "outputs": [],
   "source": [
    "# iLUTs instance\n",
    "iLUTs = Interpolated_LUTs('COPERNICUS/S2') # i.e. Sentinel2 "
   ]
  },
  {
   "cell_type": "code",
   "execution_count": 7,
   "metadata": {},
   "outputs": [],
   "source": [
    "# if this is first time you might have to download the look up tables\n",
    "#iLUTs.download_LUTs()"
   ]
  },
  {
   "cell_type": "code",
   "execution_count": 8,
   "metadata": {
    "scrolled": false
   },
   "outputs": [
    {
     "name": "stdout",
     "output_type": "stream",
     "text": [
      "running n-dimensional interpolation may take a few minutes...\n",
      "iLUT file already exists (skipping interpolation): S2A_MSI_01.lut\n",
      "iLUT file already exists (skipping interpolation): S2A_MSI_02.lut\n",
      "iLUT file already exists (skipping interpolation): S2A_MSI_03.lut\n",
      "iLUT file already exists (skipping interpolation): S2A_MSI_04.lut\n",
      "iLUT file already exists (skipping interpolation): S2A_MSI_05.lut\n",
      "iLUT file already exists (skipping interpolation): S2A_MSI_06.lut\n",
      "iLUT file already exists (skipping interpolation): S2A_MSI_07.lut\n",
      "iLUT file already exists (skipping interpolation): S2A_MSI_08.lut\n",
      "iLUT file already exists (skipping interpolation): S2A_MSI_09.lut\n",
      "iLUT file already exists (skipping interpolation): S2A_MSI_10.lut\n",
      "iLUT file already exists (skipping interpolation): S2A_MSI_11.lut\n",
      "iLUT file already exists (skipping interpolation): S2A_MSI_12.lut\n",
      "iLUT file already exists (skipping interpolation): S2A_MSI_13.lut\n"
     ]
    }
   ],
   "source": [
    "# and run the interpolation\n",
    "iLUTs.interpolate_LUTs()"
   ]
  },
  {
   "cell_type": "markdown",
   "metadata": {},
   "source": [
    "If you are running this notebook in a docker container then you can save these interpolated look-up tables (and your Earth Engine authentication) for later using a [docker commit](https://github.com/samsammurphy/gee-atmcorr-S2-6SE/wiki/docker-commits). This will save them to memory so that you only have to do the set-up once."
   ]
  },
  {
   "cell_type": "code",
   "execution_count": 9,
   "metadata": {},
   "outputs": [],
   "source": [
    "# otherwise, you can just load iLUTs from file\n",
    "se.iLUTs = iLUTs.get()"
   ]
  },
  {
   "cell_type": "code",
   "execution_count": 10,
   "metadata": {},
   "outputs": [],
   "source": [
    "# extract atmcorr inputs as feature collection\n",
    "Atmcorr_input.geom = geom  # specify target location (would use image centroid otherwise)\n",
    "atmcorr_inputs = ic.map(Atmcorr_input.extractor).getInfo()\n",
    "features = atmcorr_inputs['features']"
   ]
  },
  {
   "cell_type": "code",
   "execution_count": 11,
   "metadata": {},
   "outputs": [],
   "source": [
    "# atmospherically correct image collection\n",
    "\n",
    "ic_atmospherically_corrected = []\n",
    "\n",
    "for feature in features:\n",
    "\n",
    "    # at-sensor radiance \n",
    "    toa = ee.Image(mission+'/'+feature['properties']['imgID'])\n",
    "    rad = radiance_from_TOA(toa, feature)\n",
    "\n",
    "    # 6S emulator\n",
    "    cc = se.run(feature['properties']['atmcorr_inputs'])\n",
    "\n",
    "    # atmospheric correction\n",
    "    SR = atmospheric_correction(rad, cc)\n",
    "    ic_atmospherically_corrected.append(SR)"
   ]
  },
  {
   "cell_type": "code",
   "execution_count": null,
   "metadata": {},
   "outputs": [],
   "source": [
    "# Earth Engine image collection\n",
    "ic_atmospherically_corrected = ee.ImageCollection(ic_atmospherically_corrected)"
   ]
  },
  {
   "cell_type": "code",
   "execution_count": null,
   "metadata": {},
   "outputs": [
    {
     "name": "stdout",
     "output_type": "stream",
     "text": [
      "{'mapid': '136f8f4622be1d7ae9a1328866f4c708', 'token': 'c1b0dfba99f36ea89e2be3d22fc1b5b4', 'image': <ee.image.Image object at 0x000000DBA7D5FE48>}\n"
     ]
    }
   ],
   "source": [
    "# test\n",
    "SR = ee.Image(ic_atmospherically_corrected.first())\n",
    "print(SR.getMapId())\n",
    "print(SR.reduceRegion(ee.Reducer.mean(),geom).getInfo())"
   ]
  },
  {
   "cell_type": "code",
   "execution_count": null,
   "metadata": {},
   "outputs": [],
   "source": [
    "# original image (top of atmosphere)\n",
    "TOA = ee.Image(ic.first()).divide(10000)\n",
    "\n",
    "# surface reflectance (bottom of atmosphere)\n",
    "SR = ee.Image(ic_atmospherically_corrected.first())\n",
    "\n",
    "from IPython.display import display, Image\n",
    "\n",
    "region = geom.buffer(50000).bounds().getInfo()['coordinates']\n",
    "\n",
    "before = Image(url=TOA.select(['B4','B3','B2']).getThumbUrl({\n",
    "                'region':region,\n",
    "                'min':0,\n",
    "                'max':0.25,\n",
    "                'gamma':1.5\n",
    "                }))\n",
    "\n",
    "after = Image(url=SR.select(['B4','B3','B2']).getThumbUrl({\n",
    "                'region':region,\n",
    "                'min':0,\n",
    "                'max':0.25,\n",
    "                'gamma':1.5\n",
    "                }))\n",
    "\n",
    "display(before, after)"
   ]
  },
  {
   "cell_type": "code",
   "execution_count": null,
   "metadata": {},
   "outputs": [],
   "source": []
  },
  {
   "cell_type": "code",
   "execution_count": null,
   "metadata": {},
   "outputs": [],
   "source": []
  },
  {
   "cell_type": "code",
   "execution_count": null,
   "metadata": {},
   "outputs": [],
   "source": []
  },
  {
   "cell_type": "code",
   "execution_count": null,
   "metadata": {},
   "outputs": [],
   "source": []
  }
 ],
 "metadata": {
  "anaconda-cloud": {},
  "kernelspec": {
   "display_name": "Python 3",
   "language": "python",
   "name": "python3"
  },
  "language_info": {
   "codemirror_mode": {
    "name": "ipython",
    "version": 3
   },
   "file_extension": ".py",
   "mimetype": "text/x-python",
   "name": "python",
   "nbconvert_exporter": "python",
   "pygments_lexer": "ipython3",
   "version": "3.6.4"
  }
 },
 "nbformat": 4,
 "nbformat_minor": 1
}
